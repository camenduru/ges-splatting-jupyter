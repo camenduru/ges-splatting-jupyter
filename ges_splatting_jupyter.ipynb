{
  "cells": [
    {
      "cell_type": "markdown",
      "metadata": {
        "id": "view-in-github"
      },
      "source": [
        "[![Open In Colab](https://colab.research.google.com/assets/colab-badge.svg)](https://colab.research.google.com/github/camenduru/ges-splatting-jupyter/blob/main/ges_splatting_jupyter.ipynb)"
      ]
    },
    {
      "cell_type": "code",
      "execution_count": null,
      "metadata": {
        "id": "VjYy0F2gZIPR"
      },
      "outputs": [],
      "source": [
        "%cd /content\n",
        "!git clone --recursive -b dev https://github.com/camenduru/ges-splatting\n",
        "%cd /content/ges-splatting\n",
        "\n",
        "!wget https://huggingface.co/camenduru/gaussian-splatting/resolve/main/tandt_db.zip\n",
        "!unzip tandt_db.zip\n",
        "\n",
        "!pip install -q /content/ges-splatting/submodules/diff-gaussian-rasterization\n",
        "!pip install -q /content/ges-splatting/submodules/simple-knn\n",
        "!pip install -q plyfile trimesh einops wandb\n",
        "\n",
        "!wandb login"
      ]
    },
    {
      "cell_type": "code",
      "execution_count": null,
      "metadata": {},
      "outputs": [],
      "source": [
        "# %cd /content/ges-splatting\n",
        "# !python train_gaussian.py -s /content/tandt/train -m /content/outputs/train --eval\n",
        "\n",
        "%cd /content/ges-splatting\n",
        "!python train_ges.py -s /content/tandt/train -m /content/outputs/train --eval"
      ]
    }
  ],
  "metadata": {
    "accelerator": "GPU",
    "colab": {
      "gpuType": "T4",
      "provenance": []
    },
    "kernelspec": {
      "display_name": "Python 3",
      "name": "python3"
    },
    "language_info": {
      "name": "python"
    }
  },
  "nbformat": 4,
  "nbformat_minor": 0
}
